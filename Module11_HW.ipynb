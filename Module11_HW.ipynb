{
 "cells": [
  {
   "cell_type": "markdown",
   "id": "fffbe608",
   "metadata": {},
   "source": [
    "# Markdown"
   ]
  },
  {
   "cell_type": "markdown",
   "id": "a06ec732",
   "metadata": {},
   "source": [
    "## Deliverable 2: Scrape and Analyze Mars Weather Data"
   ]
  },
  {
   "cell_type": "code",
   "execution_count": 1,
   "id": "fde2e575",
   "metadata": {},
   "outputs": [],
   "source": [
    "# Import Libraries\n",
    "from splinter import Browser\n",
    "from selenium.webdriver.chrome.service import Service\n",
    "from bs4 import BeautifulSoup\n",
    "import matplotlib.pyplot as plt\n",
    "import pandas as pd"
   ]
  },
  {
   "cell_type": "code",
   "execution_count": 2,
   "id": "8f4f592a",
   "metadata": {},
   "outputs": [],
   "source": [
    "# Set up Splinter\n",
    "my_service = Service(executable_path=r'C:\\Users\\gregw\\OneDrive\\Desktop\\chromedriver-win64\\chromedriver.exe')\n",
    "browser = Browser('chrome', service=my_service)"
   ]
  },
  {
   "cell_type": "markdown",
   "id": "0a3dbeb4",
   "metadata": {},
   "source": [
    "### Step 1: Visit the Website"
   ]
  },
  {
   "cell_type": "code",
   "execution_count": 3,
   "id": "5e3b3937",
   "metadata": {},
   "outputs": [],
   "source": [
    "# Visit the website\n",
    "# https://static.bc-edx.com/data/web/mars_facts/temperature.html\n",
    "url = \"https://static.bc-edx.com/data/web/mars_facts/temperature.html\"\n",
    "browser.visit(url)"
   ]
  },
  {
   "cell_type": "markdown",
   "id": "bb348265",
   "metadata": {},
   "source": [
    "### Step 2: Scrape the Table"
   ]
  },
  {
   "cell_type": "code",
   "execution_count": 4,
   "id": "044eaaee",
   "metadata": {},
   "outputs": [],
   "source": [
    "# Create a Beautiful Soup Object\n",
    "html = browser.html\n",
    "soup = BeautifulSoup(html, 'html.parser')"
   ]
  },
  {
   "cell_type": "code",
   "execution_count": 5,
   "id": "8e1bb405",
   "metadata": {},
   "outputs": [],
   "source": [
    "# Extract all rows of data\n",
    "table = soup.find('table', class_='table')\n",
    "rows = table.find_all('tr')"
   ]
  },
  {
   "cell_type": "markdown",
   "id": "04cfb147",
   "metadata": {},
   "source": [
    "### Step 3: Store the data"
   ]
  },
  {
   "cell_type": "code",
   "execution_count": 6,
   "id": "bb0f2a03",
   "metadata": {},
   "outputs": [],
   "source": [
    "# Create an empty list\n",
    "row_list = []\n",
    "# Loop through the scraped data to create a list of rows\n",
    "for index, row in enumerate(rows):\n",
    "    if index == 0:\n",
    "        headers = [row.text for row in row.find_all('th')]\n",
    "    else:\n",
    "        row_data = [x.text for x in row.find_all('td')]\n",
    "        row_dict = {}\n",
    "        for header, data in zip(headers, row_data):\n",
    "            row_dict[header] = data \n",
    "        row_list.append(row_dict)"
   ]
  },
  {
   "cell_type": "code",
   "execution_count": 7,
   "id": "4ad9cc5f",
   "metadata": {},
   "outputs": [
    {
     "data": {
      "text/html": [
       "<div>\n",
       "<style scoped>\n",
       "    .dataframe tbody tr th:only-of-type {\n",
       "        vertical-align: middle;\n",
       "    }\n",
       "\n",
       "    .dataframe tbody tr th {\n",
       "        vertical-align: top;\n",
       "    }\n",
       "\n",
       "    .dataframe thead th {\n",
       "        text-align: right;\n",
       "    }\n",
       "</style>\n",
       "<table border=\"1\" class=\"dataframe\">\n",
       "  <thead>\n",
       "    <tr style=\"text-align: right;\">\n",
       "      <th></th>\n",
       "      <th>id</th>\n",
       "      <th>terrestrial_date</th>\n",
       "      <th>sol</th>\n",
       "      <th>ls</th>\n",
       "      <th>month</th>\n",
       "      <th>min_temp</th>\n",
       "      <th>pressure</th>\n",
       "    </tr>\n",
       "  </thead>\n",
       "  <tbody>\n",
       "    <tr>\n",
       "      <th>0</th>\n",
       "      <td>2</td>\n",
       "      <td>2012-08-16</td>\n",
       "      <td>10</td>\n",
       "      <td>155</td>\n",
       "      <td>6</td>\n",
       "      <td>-75.0</td>\n",
       "      <td>739.0</td>\n",
       "    </tr>\n",
       "    <tr>\n",
       "      <th>1</th>\n",
       "      <td>13</td>\n",
       "      <td>2012-08-17</td>\n",
       "      <td>11</td>\n",
       "      <td>156</td>\n",
       "      <td>6</td>\n",
       "      <td>-76.0</td>\n",
       "      <td>740.0</td>\n",
       "    </tr>\n",
       "    <tr>\n",
       "      <th>2</th>\n",
       "      <td>24</td>\n",
       "      <td>2012-08-18</td>\n",
       "      <td>12</td>\n",
       "      <td>156</td>\n",
       "      <td>6</td>\n",
       "      <td>-76.0</td>\n",
       "      <td>741.0</td>\n",
       "    </tr>\n",
       "    <tr>\n",
       "      <th>3</th>\n",
       "      <td>35</td>\n",
       "      <td>2012-08-19</td>\n",
       "      <td>13</td>\n",
       "      <td>157</td>\n",
       "      <td>6</td>\n",
       "      <td>-74.0</td>\n",
       "      <td>732.0</td>\n",
       "    </tr>\n",
       "    <tr>\n",
       "      <th>4</th>\n",
       "      <td>46</td>\n",
       "      <td>2012-08-20</td>\n",
       "      <td>14</td>\n",
       "      <td>157</td>\n",
       "      <td>6</td>\n",
       "      <td>-74.0</td>\n",
       "      <td>740.0</td>\n",
       "    </tr>\n",
       "  </tbody>\n",
       "</table>\n",
       "</div>"
      ],
      "text/plain": [
       "   id terrestrial_date sol   ls month min_temp pressure\n",
       "0   2       2012-08-16  10  155     6    -75.0    739.0\n",
       "1  13       2012-08-17  11  156     6    -76.0    740.0\n",
       "2  24       2012-08-18  12  156     6    -76.0    741.0\n",
       "3  35       2012-08-19  13  157     6    -74.0    732.0\n",
       "4  46       2012-08-20  14  157     6    -74.0    740.0"
      ]
     },
     "execution_count": 7,
     "metadata": {},
     "output_type": "execute_result"
    }
   ],
   "source": [
    "df = pd.DataFrame(row_list)\n",
    "df.head()"
   ]
  },
  {
   "cell_type": "markdown",
   "id": "10850060",
   "metadata": {},
   "source": [
    "### Step 4: Prepare the Data for Analysis"
   ]
  },
  {
   "cell_type": "code",
   "execution_count": 8,
   "id": "7c0d0f2a",
   "metadata": {},
   "outputs": [
    {
     "name": "stdout",
     "output_type": "stream",
     "text": [
      "<class 'pandas.core.frame.DataFrame'>\n",
      "RangeIndex: 1867 entries, 0 to 1866\n",
      "Data columns (total 7 columns):\n",
      " #   Column            Non-Null Count  Dtype \n",
      "---  ------            --------------  ----- \n",
      " 0   id                1867 non-null   object\n",
      " 1   terrestrial_date  1867 non-null   object\n",
      " 2   sol               1867 non-null   object\n",
      " 3   ls                1867 non-null   object\n",
      " 4   month             1867 non-null   object\n",
      " 5   min_temp          1867 non-null   object\n",
      " 6   pressure          1867 non-null   object\n",
      "dtypes: object(7)\n",
      "memory usage: 102.2+ KB\n"
     ]
    }
   ],
   "source": [
    "df.info()"
   ]
  },
  {
   "cell_type": "code",
   "execution_count": 9,
   "id": "c902670e",
   "metadata": {},
   "outputs": [
    {
     "name": "stdout",
     "output_type": "stream",
     "text": [
      "<class 'pandas.core.frame.DataFrame'>\n",
      "RangeIndex: 1867 entries, 0 to 1866\n",
      "Data columns (total 7 columns):\n",
      " #   Column            Non-Null Count  Dtype         \n",
      "---  ------            --------------  -----         \n",
      " 0   id                1867 non-null   object        \n",
      " 1   terrestrial_date  1867 non-null   datetime64[ns]\n",
      " 2   sol               1867 non-null   int64         \n",
      " 3   ls                1867 non-null   int64         \n",
      " 4   month             1867 non-null   int64         \n",
      " 5   min_temp          1867 non-null   float64       \n",
      " 6   pressure          1867 non-null   float64       \n",
      "dtypes: datetime64[ns](1), float64(2), int64(3), object(1)\n",
      "memory usage: 102.2+ KB\n"
     ]
    }
   ],
   "source": [
    "# Changing data types \n",
    "df['terrestrial_date'] = pd.to_datetime(df['terrestrial_date'])\n",
    "df['sol'] = pd.to_numeric(df['sol'])\n",
    "df['ls'] = pd.to_numeric(df['ls'])\n",
    "df['month'] = pd.to_numeric(df['month'])\n",
    "df['min_temp'] = df['min_temp'].astype('float')\n",
    "df['pressure'] = df['pressure'].astype('float')\n",
    "df.info()"
   ]
  },
  {
   "cell_type": "markdown",
   "id": "c2945844",
   "metadata": {},
   "source": [
    "### Step 5: Analyze the Data"
   ]
  },
  {
   "cell_type": "code",
   "execution_count": 10,
   "id": "4a6d4a30",
   "metadata": {},
   "outputs": [
    {
     "data": {
      "text/plain": [
       "month\n",
       "1     174\n",
       "2     178\n",
       "3     192\n",
       "4     194\n",
       "5     149\n",
       "6     147\n",
       "7     142\n",
       "8     141\n",
       "9     134\n",
       "10    112\n",
       "11    138\n",
       "12    166\n",
       "Name: month, dtype: int64"
      ]
     },
     "execution_count": 10,
     "metadata": {},
     "output_type": "execute_result"
    }
   ],
   "source": [
    "# 1. How many months are there on Mars?\n",
    "month = df.groupby(['month'])['month'].count()\n",
    "month"
   ]
  },
  {
   "cell_type": "code",
   "execution_count": 11,
   "id": "e4ba8c43",
   "metadata": {},
   "outputs": [
    {
     "data": {
      "text/plain": [
       "1867"
      ]
     },
     "execution_count": 11,
     "metadata": {},
     "output_type": "execute_result"
    }
   ],
   "source": [
    "# 2. How many Martian days' worth of data are there?\n",
    "martian_days = df['sol'].count()\n",
    "martian_days"
   ]
  },
  {
   "cell_type": "code",
   "execution_count": 12,
   "id": "db0c637e",
   "metadata": {},
   "outputs": [
    {
     "data": {
      "text/plain": [
       "month\n",
       "1    -77.160920\n",
       "2    -79.932584\n",
       "3    -83.307292\n",
       "4    -82.747423\n",
       "5    -79.308725\n",
       "6    -75.299320\n",
       "7    -72.281690\n",
       "8    -68.382979\n",
       "9    -69.171642\n",
       "10   -71.982143\n",
       "11   -71.985507\n",
       "12   -74.451807\n",
       "Name: min_temp, dtype: float64"
      ]
     },
     "execution_count": 12,
     "metadata": {},
     "output_type": "execute_result"
    }
   ],
   "source": [
    "# 3. What is the average low temperature by month?\n",
    "avg_temp = df.groupby(['month'])['min_temp'].mean()\n",
    "avg_temp"
   ]
  },
  {
   "cell_type": "code",
   "execution_count": 13,
   "id": "681182a4",
   "metadata": {},
   "outputs": [
    {
     "data": {
      "image/png": "[encoded data removed]",
      "text/plain": [
       "<Figure size 432x288 with 1 Axes>"
      ]
     },
     "metadata": {
      "needs_background": "light"
     },
     "output_type": "display_data"
    }
   ],
   "source": [
    "# Plot the average temperature by month\n",
    "plt.bar(avg_temp.index, avg_temp.values)\n",
    "plt.ylabel(\"Temperature\")\n",
    "plt.xlabel(\"Month\")\n",
    "plt.show()"
   ]
  },
  {
   "cell_type": "code",
   "execution_count": 14,
   "id": "e3ebd4bb",
   "metadata": {},
   "outputs": [
    {
     "data": {
      "image/png": "[encoded data removed]",
      "text/plain": [
       "<Figure size 432x288 with 1 Axes>"
      ]
     },
     "metadata": {
      "needs_background": "light"
     },
     "output_type": "display_data"
    }
   ],
   "source": [
    "# Identify the coldest and hottest months in Curiosity's location\n",
    "avg_temp.sort_values(ascending=True).plot.bar()\n",
    "plt.ylabel(\"Temperature in Cities\")\n",
    "plt.show()"
   ]
  },
  {
   "cell_type": "markdown",
   "id": "465bf35d",
   "metadata": {},
   "source": [
    "The coldest month on Mars was Month 3 and the warmest month on Mars was Month 8. Although both temperatures are far below any temperature on Earth."
   ]
  },
  {
   "cell_type": "code",
   "execution_count": 15,
   "id": "e2fac36e",
   "metadata": {},
   "outputs": [
    {
     "data": {
      "text/plain": [
       "month\n",
       "1     862.488506\n",
       "2     889.455056\n",
       "3     877.322917\n",
       "4     806.329897\n",
       "5     748.557047\n",
       "6     745.054422\n",
       "7     795.105634\n",
       "8     873.829787\n",
       "9     913.305970\n",
       "10    887.312500\n",
       "11    857.014493\n",
       "12    842.156627\n",
       "Name: pressure, dtype: float64"
      ]
     },
     "execution_count": 15,
     "metadata": {},
     "output_type": "execute_result"
    }
   ],
   "source": [
    "# 4. Average pressure by Martian month\n",
    "avg_pressure = df.groupby(['month'])['pressure'].mean()\n",
    "avg_pressure"
   ]
  },
  {
   "cell_type": "code",
   "execution_count": 16,
   "id": "2ddfef2b",
   "metadata": {},
   "outputs": [
    {
     "data": {
      "image/png": "[encoded data removed]",
      "text/plain": [
       "<Figure size 432x288 with 1 Axes>"
      ]
     },
     "metadata": {
      "needs_background": "light"
     },
     "output_type": "display_data"
    }
   ],
   "source": [
    "avg_pressure.sort_values(ascending=True).plot.bar()\n",
    "plt.xlabel(\"Month\")\n",
    "plt.ylabel(\"Atmospheric Pressure\")\n",
    "plt.show()"
   ]
  },
  {
   "cell_type": "markdown",
   "id": "55d7050f",
   "metadata": {},
   "source": [
    "The atmospheric pressure was at its lowest at month 6 and highest at month 9."
   ]
  },
  {
   "cell_type": "code",
   "execution_count": 17,
   "id": "ed27cadf",
   "metadata": {},
   "outputs": [
    {
     "data": {
      "image/png": "[encoded data removed]",
      "text/plain": [
       "<Figure size 432x288 with 1 Axes>"
      ]
     },
     "metadata": {
      "needs_background": "light"
     },
     "output_type": "display_data"
    }
   ],
   "source": [
    "# 5. How many terrestrial (earth) days are there in a Martian year?\n",
    "x_values = df['sol']\n",
    "y_values = df['min_temp']\n",
    "plt.plot(x_values, y_values)\n",
    "plt.show()"
   ]
  },
  {
   "cell_type": "markdown",
   "id": "eb876aab",
   "metadata": {},
   "source": [
    "The difference from when the data started at 0 to when it next reaches that looks to be at around 675 days. On google I found that there is 687 days in a martian year"
   ]
  },
  {
   "cell_type": "code",
   "execution_count": 18,
   "id": "061873fe",
   "metadata": {},
   "outputs": [],
   "source": [
    "# Export Data to csv\n",
    "df.to_csv(\"mars_table.csv\", index=False)"
   ]
  },
  {
   "cell_type": "code",
   "execution_count": 19,
   "id": "c7e52ed2",
   "metadata": {},
   "outputs": [],
   "source": [
    "browser.quit()"
   ]
  },
  {
   "cell_type": "code",
   "execution_count": null,
   "id": "43791197",
   "metadata": {},
   "outputs": [],
   "source": []
  }
 ],
 "metadata": {
  "kernelspec": {
   "display_name": "Python 3",
   "language": "python",
   "name": "python3"
  },
  "language_info": {
   "codemirror_mode": {
    "name": "ipython",
    "version": 3
   },
   "file_extension": ".py",
   "mimetype": "text/x-python",
   "name": "python",
   "nbconvert_exporter": "python",
   "pygments_lexer": "ipython3",
   "version": "3.8.8"
  },
  "toc": {
   "base_numbering": 1,
   "nav_menu": {},
   "number_sections": true,
   "sideBar": true,
   "skip_h1_title": false,
   "title_cell": "Table of Contents",
   "title_sidebar": "Contents",
   "toc_cell": false,
   "toc_position": {},
   "toc_section_display": true,
   "toc_window_display": false
  }
 },
 "nbformat": 4,
 "nbformat_minor": 5
}
